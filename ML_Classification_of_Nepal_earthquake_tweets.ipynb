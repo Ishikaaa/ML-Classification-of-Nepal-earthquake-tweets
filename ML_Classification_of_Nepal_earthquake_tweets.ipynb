{
  "nbformat": 4,
  "nbformat_minor": 0,
  "metadata": {
    "colab": {
      "name": "ML_Classification_of_Nepal_earthquake_tweets.ipynb",
      "version": "0.3.2",
      "provenance": [],
      "collapsed_sections": [],
      "include_colab_link": true
    },
    "kernelspec": {
      "name": "python3",
      "display_name": "Python 3"
    }
  },
  "cells": [
    {
      "cell_type": "markdown",
      "metadata": {
        "id": "view-in-github",
        "colab_type": "text"
      },
      "source": [
        "<a href=\"https://colab.research.google.com/github/Ishikaaa/ML-Classification-of-Nepal-earthquake-tweets/blob/master/ML_Classification_of_Nepal_earthquake_tweets.ipynb\" target=\"_parent\"><img src=\"https://colab.research.google.com/assets/colab-badge.svg\" alt=\"Open In Colab\"/></a>"
      ]
    },
    {
      "cell_type": "markdown",
      "metadata": {
        "id": "PUbEDxhseRLL",
        "colab_type": "text"
      },
      "source": [
        "**About The Twitter Post - **\n",
        "\n",
        "Microblogging sites like Twitter are increasingly being used for aiding relief operations during various mass emergencies.  A lot of critical situational information is posted on microblogging sites during disaster events. However, messages posted on microblogging sites often contain rumors and overstated facts. In such situations, identification of factual tweets, i.e., tweets that report some relevant and verifiable fact (other than sympathy or prayer) is extremely important for effective coordination of post-disaster relief operations. Additionally, cross verification of such critical information is a practical necessity  and resource availability.\n",
        "\n",
        "**Aim of The Project - **\n",
        "\n",
        " identify the tweets that talk about the need of resources or availability of resources\n",
        " \n",
        " **About The Dataset - **\n",
        " \n",
        " The text file contains tuples in the form:\n",
        "(target class , Tweet id , Tweet’s text)\n",
        "\n",
        "Class Description:\n",
        "\n",
        "*   0:The tweet doesn’t talk about any resources needed or available(Irrelevant tweets)\n",
        "*   1:The tweet mentions a resource that is needed (Need Tweets)\n",
        "*   2:The tweet mentions a resource that is available(Availability tweets)\n",
        "\n",
        "\n"
      ]
    },
    {
      "cell_type": "markdown",
      "metadata": {
        "id": "cv2VA_PvduEL",
        "colab_type": "text"
      },
      "source": [
        "# ***Importing Libraries - ***"
      ]
    },
    {
      "cell_type": "code",
      "metadata": {
        "id": "KE3We8LodKwb",
        "colab_type": "code",
        "colab": {}
      },
      "source": [
        "import pandas as pd \n",
        "import numpy as np \n",
        "import matplotlib.pyplot as plt \n",
        "from sklearn import metrics \n",
        "import seaborn as sns "
      ],
      "execution_count": 0,
      "outputs": []
    },
    {
      "cell_type": "markdown",
      "metadata": {
        "id": "cmxvdhMOfyDE",
        "colab_type": "text"
      },
      "source": [
        "# ***Importing dataset - ***"
      ]
    },
    {
      "cell_type": "code",
      "metadata": {
        "id": "9bFhLeNMd6Ya",
        "colab_type": "code",
        "outputId": "7d4cc4ba-0ef0-4d90-8b29-c1a5d185fcad",
        "colab": {
          "base_uri": "https://localhost:8080/",
          "height": 197
        }
      },
      "source": [
        "colnames=['target_class','Tweet_id','Tweet’s_text']\n",
        "dataset=pd.read_csv(\"Train.txt\",names=colnames, header=None)\n",
        "dataset.head()"
      ],
      "execution_count": 0,
      "outputs": [
        {
          "output_type": "execute_result",
          "data": {
            "text/html": [
              "<div>\n",
              "<style scoped>\n",
              "    .dataframe tbody tr th:only-of-type {\n",
              "        vertical-align: middle;\n",
              "    }\n",
              "\n",
              "    .dataframe tbody tr th {\n",
              "        vertical-align: top;\n",
              "    }\n",
              "\n",
              "    .dataframe thead th {\n",
              "        text-align: right;\n",
              "    }\n",
              "</style>\n",
              "<table border=\"1\" class=\"dataframe\">\n",
              "  <thead>\n",
              "    <tr style=\"text-align: right;\">\n",
              "      <th></th>\n",
              "      <th>target_class</th>\n",
              "      <th>Tweet_id</th>\n",
              "      <th>Tweet’s_text</th>\n",
              "    </tr>\n",
              "  </thead>\n",
              "  <tbody>\n",
              "    <tr>\n",
              "      <th>0</th>\n",
              "      <td>(0</td>\n",
              "      <td>'591764470197723137'</td>\n",
              "      <td>'#Nepal #news Adding to Bhutanese Refugees Bh...</td>\n",
              "    </tr>\n",
              "    <tr>\n",
              "      <th>1</th>\n",
              "      <td>(0</td>\n",
              "      <td>'591779538046218240'</td>\n",
              "      <td>\"The massacre of people's movement says peace...</td>\n",
              "    </tr>\n",
              "    <tr>\n",
              "      <th>2</th>\n",
              "      <td>(0</td>\n",
              "      <td>'591728244925210624'</td>\n",
              "      <td>\"I'm lonely</td>\n",
              "    </tr>\n",
              "    <tr>\n",
              "      <th>3</th>\n",
              "      <td>(0</td>\n",
              "      <td>'591774433926193152'</td>\n",
              "      <td>'#nepal #news 6 billion collection collection...</td>\n",
              "    </tr>\n",
              "    <tr>\n",
              "      <th>4</th>\n",
              "      <td>(0</td>\n",
              "      <td>'591764472651386882'</td>\n",
              "      <td>'#Nepal #news Indian proposal to crash airpor...</td>\n",
              "    </tr>\n",
              "  </tbody>\n",
              "</table>\n",
              "</div>"
            ],
            "text/plain": [
              "  target_class               Tweet_id  \\\n",
              "0           (0   '591764470197723137'   \n",
              "1           (0   '591779538046218240'   \n",
              "2           (0   '591728244925210624'   \n",
              "3           (0   '591774433926193152'   \n",
              "4           (0   '591764472651386882'   \n",
              "\n",
              "                                        Tweet’s_text  \n",
              "0   '#Nepal #news Adding to Bhutanese Refugees Bh...  \n",
              "1   \"The massacre of people's movement says peace...  \n",
              "2                                        \"I'm lonely  \n",
              "3   '#nepal #news 6 billion collection collection...  \n",
              "4   '#Nepal #news Indian proposal to crash airpor...  "
            ]
          },
          "metadata": {
            "tags": []
          },
          "execution_count": 3
        }
      ]
    },
    {
      "cell_type": "code",
      "metadata": {
        "id": "sKAGOlBMqRhX",
        "colab_type": "code",
        "outputId": "a8676cf6-e93f-46c1-d573-608123a6784c",
        "colab": {
          "base_uri": "https://localhost:8080/",
          "height": 34
        }
      },
      "source": [
        "dataset.shape"
      ],
      "execution_count": 0,
      "outputs": [
        {
          "output_type": "execute_result",
          "data": {
            "text/plain": [
              "(18086, 3)"
            ]
          },
          "metadata": {
            "tags": []
          },
          "execution_count": 4
        }
      ]
    },
    {
      "cell_type": "code",
      "metadata": {
        "id": "WYI_kt_G5ecP",
        "colab_type": "code",
        "outputId": "cda13986-bd20-41ab-e83d-2abd7194730f",
        "colab": {
          "base_uri": "https://localhost:8080/",
          "height": 197
        }
      },
      "source": [
        "dataset['target_class'] = dataset['target_class'].str.strip('(')\n",
        "dataset['Tweet’s_text'] = dataset['Tweet’s_text'].str.strip(')')\n",
        "dataset.head()"
      ],
      "execution_count": 0,
      "outputs": [
        {
          "output_type": "execute_result",
          "data": {
            "text/html": [
              "<div>\n",
              "<style scoped>\n",
              "    .dataframe tbody tr th:only-of-type {\n",
              "        vertical-align: middle;\n",
              "    }\n",
              "\n",
              "    .dataframe tbody tr th {\n",
              "        vertical-align: top;\n",
              "    }\n",
              "\n",
              "    .dataframe thead th {\n",
              "        text-align: right;\n",
              "    }\n",
              "</style>\n",
              "<table border=\"1\" class=\"dataframe\">\n",
              "  <thead>\n",
              "    <tr style=\"text-align: right;\">\n",
              "      <th></th>\n",
              "      <th>target_class</th>\n",
              "      <th>Tweet_id</th>\n",
              "      <th>Tweet’s_text</th>\n",
              "    </tr>\n",
              "  </thead>\n",
              "  <tbody>\n",
              "    <tr>\n",
              "      <th>0</th>\n",
              "      <td>0</td>\n",
              "      <td>'591764470197723137'</td>\n",
              "      <td>'#Nepal #news Adding to Bhutanese Refugees Bh...</td>\n",
              "    </tr>\n",
              "    <tr>\n",
              "      <th>1</th>\n",
              "      <td>0</td>\n",
              "      <td>'591779538046218240'</td>\n",
              "      <td>\"The massacre of people's movement says peace...</td>\n",
              "    </tr>\n",
              "    <tr>\n",
              "      <th>2</th>\n",
              "      <td>0</td>\n",
              "      <td>'591728244925210624'</td>\n",
              "      <td>\"I'm lonely</td>\n",
              "    </tr>\n",
              "    <tr>\n",
              "      <th>3</th>\n",
              "      <td>0</td>\n",
              "      <td>'591774433926193152'</td>\n",
              "      <td>'#nepal #news 6 billion collection collection...</td>\n",
              "    </tr>\n",
              "    <tr>\n",
              "      <th>4</th>\n",
              "      <td>0</td>\n",
              "      <td>'591764472651386882'</td>\n",
              "      <td>'#Nepal #news Indian proposal to crash airpor...</td>\n",
              "    </tr>\n",
              "  </tbody>\n",
              "</table>\n",
              "</div>"
            ],
            "text/plain": [
              "  target_class               Tweet_id  \\\n",
              "0            0   '591764470197723137'   \n",
              "1            0   '591779538046218240'   \n",
              "2            0   '591728244925210624'   \n",
              "3            0   '591774433926193152'   \n",
              "4            0   '591764472651386882'   \n",
              "\n",
              "                                        Tweet’s_text  \n",
              "0   '#Nepal #news Adding to Bhutanese Refugees Bh...  \n",
              "1   \"The massacre of people's movement says peace...  \n",
              "2                                        \"I'm lonely  \n",
              "3   '#nepal #news 6 billion collection collection...  \n",
              "4   '#Nepal #news Indian proposal to crash airpor...  "
            ]
          },
          "metadata": {
            "tags": []
          },
          "execution_count": 5
        }
      ]
    },
    {
      "cell_type": "code",
      "metadata": {
        "id": "VgIX5ADmnhLY",
        "colab_type": "code",
        "outputId": "4e9173e5-c2c3-4156-c060-88d4fc025d1a",
        "colab": {
          "base_uri": "https://localhost:8080/",
          "height": 87
        }
      },
      "source": [
        "dataset['target_class'].value_counts()"
      ],
      "execution_count": 0,
      "outputs": [
        {
          "output_type": "execute_result",
          "data": {
            "text/plain": [
              "0    17223\n",
              "2      664\n",
              "1      199\n",
              "Name: target_class, dtype: int64"
            ]
          },
          "metadata": {
            "tags": []
          },
          "execution_count": 6
        }
      ]
    },
    {
      "cell_type": "code",
      "metadata": {
        "id": "0XzRWLmMfSwE",
        "colab_type": "code",
        "outputId": "29606fdd-1f63-451a-a952-4b136208ecce",
        "colab": {
          "base_uri": "https://localhost:8080/",
          "height": 87
        }
      },
      "source": [
        "dataset.dtypes"
      ],
      "execution_count": 0,
      "outputs": [
        {
          "output_type": "execute_result",
          "data": {
            "text/plain": [
              "target_class    object\n",
              "Tweet_id        object\n",
              "Tweet’s_text    object\n",
              "dtype: object"
            ]
          },
          "metadata": {
            "tags": []
          },
          "execution_count": 7
        }
      ]
    },
    {
      "cell_type": "code",
      "metadata": {
        "id": "468ph4RmferB",
        "colab_type": "code",
        "outputId": "d75e7786-423c-46d0-a1d0-ab296b79dba3",
        "colab": {
          "base_uri": "https://localhost:8080/",
          "height": 167
        }
      },
      "source": [
        "dataset.describe(include=\"all\")"
      ],
      "execution_count": 0,
      "outputs": [
        {
          "output_type": "execute_result",
          "data": {
            "text/html": [
              "<div>\n",
              "<style scoped>\n",
              "    .dataframe tbody tr th:only-of-type {\n",
              "        vertical-align: middle;\n",
              "    }\n",
              "\n",
              "    .dataframe tbody tr th {\n",
              "        vertical-align: top;\n",
              "    }\n",
              "\n",
              "    .dataframe thead th {\n",
              "        text-align: right;\n",
              "    }\n",
              "</style>\n",
              "<table border=\"1\" class=\"dataframe\">\n",
              "  <thead>\n",
              "    <tr style=\"text-align: right;\">\n",
              "      <th></th>\n",
              "      <th>target_class</th>\n",
              "      <th>Tweet_id</th>\n",
              "      <th>Tweet’s_text</th>\n",
              "    </tr>\n",
              "  </thead>\n",
              "  <tbody>\n",
              "    <tr>\n",
              "      <th>count</th>\n",
              "      <td>18086</td>\n",
              "      <td>18086</td>\n",
              "      <td>18086</td>\n",
              "    </tr>\n",
              "    <tr>\n",
              "      <th>unique</th>\n",
              "      <td>3</td>\n",
              "      <td>18086</td>\n",
              "      <td>17399</td>\n",
              "    </tr>\n",
              "    <tr>\n",
              "      <th>top</th>\n",
              "      <td>0</td>\n",
              "      <td>'592628283176542208'</td>\n",
              "      <td>'Today</td>\n",
              "    </tr>\n",
              "    <tr>\n",
              "      <th>freq</th>\n",
              "      <td>17223</td>\n",
              "      <td>1</td>\n",
              "      <td>38</td>\n",
              "    </tr>\n",
              "  </tbody>\n",
              "</table>\n",
              "</div>"
            ],
            "text/plain": [
              "       target_class               Tweet_id Tweet’s_text\n",
              "count         18086                  18086        18086\n",
              "unique            3                  18086        17399\n",
              "top               0   '592628283176542208'       'Today\n",
              "freq          17223                      1           38"
            ]
          },
          "metadata": {
            "tags": []
          },
          "execution_count": 8
        }
      ]
    },
    {
      "cell_type": "code",
      "metadata": {
        "id": "2PM3RsfwgNyn",
        "colab_type": "code",
        "outputId": "eb19e090-4806-422c-d1c4-dfe8d3cf7633",
        "colab": {
          "base_uri": "https://localhost:8080/",
          "height": 158
        }
      },
      "source": [
        "dataset.info()"
      ],
      "execution_count": 0,
      "outputs": [
        {
          "output_type": "stream",
          "text": [
            "<class 'pandas.core.frame.DataFrame'>\n",
            "RangeIndex: 18086 entries, 0 to 18085\n",
            "Data columns (total 3 columns):\n",
            "target_class    18086 non-null object\n",
            "Tweet_id        18086 non-null object\n",
            "Tweet’s_text    18086 non-null object\n",
            "dtypes: object(3)\n",
            "memory usage: 424.0+ KB\n"
          ],
          "name": "stdout"
        }
      ]
    },
    {
      "cell_type": "code",
      "metadata": {
        "id": "FFOlE3rurweb",
        "colab_type": "code",
        "outputId": "b5f03afa-a9ab-4769-dcc8-38bed72ae663",
        "colab": {
          "base_uri": "https://localhost:8080/",
          "height": 301
        }
      },
      "source": [
        "sns.countplot(x='target_class', data=dataset)"
      ],
      "execution_count": 0,
      "outputs": [
        {
          "output_type": "execute_result",
          "data": {
            "text/plain": [
              "<matplotlib.axes._subplots.AxesSubplot at 0x7fe0cce508d0>"
            ]
          },
          "metadata": {
            "tags": []
          },
          "execution_count": 9
        },
        {
          "output_type": "display_data",
          "data": {
            "image/png": "[encoded data removed]",
            "text/plain": [
              "<Figure size 432x288 with 1 Axes>"
            ]
          },
          "metadata": {
            "tags": []
          }
        }
      ]
    },
    {
      "cell_type": "markdown",
      "metadata": {
        "id": "gsMp8jDEyu4f",
        "colab_type": "text"
      },
      "source": [
        "**Note - **\n",
        "\n",
        "*    1:The tweet mentions a resource that is needed (Need Tweets)\n",
        "*    2:The tweet mentions a resource that is available(Availability tweets)\n",
        "*    0:The tweet doesn’t talk about any resources needed or available(Irrelevant tweets)"
      ]
    },
    {
      "cell_type": "markdown",
      "metadata": {
        "id": "3yq-a2rogQ9Q",
        "colab_type": "text"
      },
      "source": [
        "# ***Check Missing Values - ***"
      ]
    },
    {
      "cell_type": "code",
      "metadata": {
        "id": "nRLoOesZgVk3",
        "colab_type": "code",
        "outputId": "711074c8-a541-4319-8205-2d852108b769",
        "colab": {
          "base_uri": "https://localhost:8080/",
          "height": 87
        }
      },
      "source": [
        "dataset.isnull().sum()"
      ],
      "execution_count": 0,
      "outputs": [
        {
          "output_type": "execute_result",
          "data": {
            "text/plain": [
              "target_class    0\n",
              "Tweet_id        0\n",
              "Tweet’s_text    0\n",
              "dtype: int64"
            ]
          },
          "metadata": {
            "tags": []
          },
          "execution_count": 10
        }
      ]
    },
    {
      "cell_type": "markdown",
      "metadata": {
        "id": "wjPIjVqFWB19",
        "colab_type": "text"
      },
      "source": [
        "# ***Splitting Dataset - ***"
      ]
    },
    {
      "cell_type": "code",
      "metadata": {
        "id": "0XhwxFnaWA65",
        "colab_type": "code",
        "colab": {}
      },
      "source": [
        "X=dataset['Tweet’s_text']\n",
        "Y=dataset['target_class']"
      ],
      "execution_count": 0,
      "outputs": []
    },
    {
      "cell_type": "code",
      "metadata": {
        "id": "acqAcVf5WH_U",
        "colab_type": "code",
        "colab": {}
      },
      "source": [
        "from sklearn.model_selection import train_test_split \n",
        "X_train,X_test,Y_train,Y_test=train_test_split(X,Y,test_size=0.25,random_state=0)"
      ],
      "execution_count": 0,
      "outputs": []
    },
    {
      "cell_type": "markdown",
      "metadata": {
        "id": "MXh2FnGxol1L",
        "colab_type": "text"
      },
      "source": [
        "# ***Feature Extraction - ***"
      ]
    },
    {
      "cell_type": "markdown",
      "metadata": {
        "id": "wTdpR0x7ouae",
        "colab_type": "text"
      },
      "source": [
        "Feature Extraction means converting categorical data into numerical data. "
      ]
    },
    {
      "cell_type": "markdown",
      "metadata": {
        "id": "kvQSOxm_XK_w",
        "colab_type": "text"
      },
      "source": [
        "**TF-IDF - **\n",
        "\n",
        "TF-IDF ---> Term Frequency-Inverse Document Frequency. It tells that how often a word occur in a document. "
      ]
    },
    {
      "cell_type": "code",
      "metadata": {
        "id": "RJ9nuOmbotzL",
        "colab_type": "code",
        "colab": {}
      },
      "source": [
        "# TF-IDF for X_train data \n",
        "from sklearn.feature_extraction.text import TfidfVectorizer\n",
        "Vectorizer=TfidfVectorizer(ngram_range = [1,2])\n",
        "dtm_train=Vectorizer.fit_transform(X_train)"
      ],
      "execution_count": 0,
      "outputs": []
    },
    {
      "cell_type": "code",
      "metadata": {
        "id": "CxF6WiigF7ks",
        "colab_type": "code",
        "colab": {}
      },
      "source": [
        "# TF-IDF for X_test \n",
        "from sklearn.feature_extraction.text import TfidfVectorizer\n",
        "dtm_test=Vectorizer.fit_transform(X_test)"
      ],
      "execution_count": 0,
      "outputs": []
    },
    {
      "cell_type": "code",
      "metadata": {
        "id": "c7nOFtM6pYsA",
        "colab_type": "code",
        "colab": {}
      },
      "source": [
        "print(Vectorizer.vocabulary_)"
      ],
      "execution_count": 0,
      "outputs": []
    },
    {
      "cell_type": "code",
      "metadata": {
        "id": "4LNemwGFpklm",
        "colab_type": "code",
        "outputId": "34e76eb0-5f2f-47e9-de59-904c88f940b2",
        "colab": {
          "base_uri": "https://localhost:8080/",
          "height": 141
        }
      },
      "source": [
        "dtm_train.toarray()"
      ],
      "execution_count": 0,
      "outputs": [
        {
          "output_type": "execute_result",
          "data": {
            "text/plain": [
              "array([[0., 0., 0., ..., 0., 0., 0.],\n",
              "       [0., 0., 0., ..., 0., 0., 0.],\n",
              "       [0., 0., 0., ..., 0., 0., 0.],\n",
              "       ...,\n",
              "       [0., 0., 0., ..., 0., 0., 0.],\n",
              "       [0., 0., 0., ..., 0., 0., 0.],\n",
              "       [0., 0., 0., ..., 0., 0., 0.]])"
            ]
          },
          "metadata": {
            "tags": []
          },
          "execution_count": 17
        }
      ]
    },
    {
      "cell_type": "code",
      "metadata": {
        "id": "bkzs041zHDcb",
        "colab_type": "code",
        "outputId": "c562d1cb-0f14-4470-9ff9-0a8ae674e982",
        "colab": {
          "base_uri": "https://localhost:8080/",
          "height": 141
        }
      },
      "source": [
        "dtm_test.toarray()"
      ],
      "execution_count": 0,
      "outputs": [
        {
          "output_type": "execute_result",
          "data": {
            "text/plain": [
              "array([[0., 0., 0., ..., 0., 0., 0.],\n",
              "       [0., 0., 0., ..., 0., 0., 0.],\n",
              "       [0., 0., 0., ..., 0., 0., 0.],\n",
              "       ...,\n",
              "       [0., 0., 0., ..., 0., 0., 0.],\n",
              "       [0., 0., 0., ..., 0., 0., 0.],\n",
              "       [0., 0., 0., ..., 0., 0., 0.]])"
            ]
          },
          "metadata": {
            "tags": []
          },
          "execution_count": 18
        }
      ]
    },
    {
      "cell_type": "code",
      "metadata": {
        "id": "bZws52hyyLT5",
        "colab_type": "code",
        "outputId": "94733adb-8fd8-4b73-cf60-c3059a6a5d6e",
        "colab": {
          "base_uri": "https://localhost:8080/",
          "height": 52
        }
      },
      "source": [
        "print(\"Shape of test:\",dtm_test.shape)\n",
        "print(\"Shape of train:\",dtm_train.shape)"
      ],
      "execution_count": 0,
      "outputs": [
        {
          "output_type": "stream",
          "text": [
            "Shape of test: (4522, 38563)\n",
            "Shape of train: (13564, 86219)\n"
          ],
          "name": "stdout"
        }
      ]
    },
    {
      "cell_type": "markdown",
      "metadata": {
        "id": "7juk0OV7O7WW",
        "colab_type": "text"
      },
      "source": [
        "# ***Chi-Squared Test - ***"
      ]
    },
    {
      "cell_type": "markdown",
      "metadata": {
        "id": "sWDgNs44O-RS",
        "colab_type": "text"
      },
      "source": [
        "Chi-Squared Test is for feature selection which is a process of extracting the most irrelevant features from dataset and then applying machine learning algorithm for better performance. A large number of irrelevant features increases the training time exponentially and increase the risk of overfitting. \n",
        "\n",
        "\n",
        "Chi-Squared Test is used for categorical features in dataset. We calculate Chi-Squared features between each feature and the target and select the desired numebr of features with best Chi-squared scores. \n",
        "\n",
        "Chi-Squared score is given by :- \n",
        "\n",
        "X^2=(obersved frequency-expected frequency)^2/(Expected Frequency)\n",
        "where observed frequency is the data that we actually observed and expected freaquency comes from predicted data . \n",
        "\n"
      ]
    },
    {
      "cell_type": "code",
      "metadata": {
        "id": "Ies00rvufgZj",
        "colab_type": "code",
        "colab": {}
      },
      "source": [
        "from sklearn.feature_selection import SelectKBest\n",
        "from sklearn.feature_selection import chi2"
      ],
      "execution_count": 0,
      "outputs": []
    },
    {
      "cell_type": "code",
      "metadata": {
        "id": "mQjHVAnR_QtY",
        "colab_type": "code",
        "colab": {}
      },
      "source": [
        "chichi=SelectKBest(chi2,k=2)\n",
        "dtm_train_chi=chichi.fit_transform(dtm_train,Y_train)"
      ],
      "execution_count": 0,
      "outputs": []
    },
    {
      "cell_type": "markdown",
      "metadata": {
        "id": "aGMxnakrBbsO",
        "colab_type": "text"
      },
      "source": [
        "# ***Modeling The Dataset -***"
      ]
    },
    {
      "cell_type": "markdown",
      "metadata": {
        "id": "uSDag6avBkR7",
        "colab_type": "text"
      },
      "source": [
        "**Logistic Regression - **\n",
        "\n",
        "Task of Logistic Regression - To draw a line such that it best seperate dataset into 2 or more groups. "
      ]
    },
    {
      "cell_type": "code",
      "metadata": {
        "id": "Gvy4Pc_0B3kZ",
        "colab_type": "code",
        "outputId": "de0569f3-efea-480f-e772-8dd0b9264af2",
        "colab": {
          "base_uri": "https://localhost:8080/",
          "height": 178
        }
      },
      "source": [
        "from sklearn.linear_model import LogisticRegression \n",
        "classifierr=LogisticRegression()\n",
        "classifierr.fit(dtm_train_chi,Y_train)"
      ],
      "execution_count": 0,
      "outputs": [
        {
          "output_type": "stream",
          "text": [
            "/usr/local/lib/python3.6/dist-packages/sklearn/linear_model/logistic.py:433: FutureWarning: Default solver will be changed to 'lbfgs' in 0.22. Specify a solver to silence this warning.\n",
            "  FutureWarning)\n",
            "/usr/local/lib/python3.6/dist-packages/sklearn/linear_model/logistic.py:460: FutureWarning: Default multi_class will be changed to 'auto' in 0.22. Specify the multi_class option to silence this warning.\n",
            "  \"this warning.\", FutureWarning)\n"
          ],
          "name": "stderr"
        },
        {
          "output_type": "execute_result",
          "data": {
            "text/plain": [
              "LogisticRegression(C=1.0, class_weight=None, dual=False, fit_intercept=True,\n",
              "          intercept_scaling=1, max_iter=100, multi_class='warn',\n",
              "          n_jobs=None, penalty='l2', random_state=None, solver='warn',\n",
              "          tol=0.0001, verbose=0, warm_start=False)"
            ]
          },
          "metadata": {
            "tags": []
          },
          "execution_count": 24
        }
      ]
    },
    {
      "cell_type": "markdown",
      "metadata": {
        "id": "W8M9SPqdDw6p",
        "colab_type": "text"
      },
      "source": [
        "# ***Making The Predictions - ***"
      ]
    },
    {
      "cell_type": "code",
      "metadata": {
        "id": "awLTNzTUFAFd",
        "colab_type": "code",
        "colab": {}
      },
      "source": [
        "chichi_test=SelectKBest(chi2,k=2)\n",
        "dtm_test_chi=chichi_test.fit_transform(dtm_test,Y_test)"
      ],
      "execution_count": 0,
      "outputs": []
    },
    {
      "cell_type": "code",
      "metadata": {
        "id": "VnjKK7kaDz8m",
        "colab_type": "code",
        "colab": {}
      },
      "source": [
        "Y_pred=classifierr.predict(dtm_test_chi)"
      ],
      "execution_count": 0,
      "outputs": []
    },
    {
      "cell_type": "markdown",
      "metadata": {
        "id": "LRH6sGqoCiQ2",
        "colab_type": "text"
      },
      "source": [
        "# ***Accuracy Of Model - ***"
      ]
    },
    {
      "cell_type": "code",
      "metadata": {
        "id": "zeY17CSJDhJc",
        "colab_type": "code",
        "colab": {}
      },
      "source": [
        "from sklearn import metrics "
      ],
      "execution_count": 0,
      "outputs": []
    },
    {
      "cell_type": "markdown",
      "metadata": {
        "id": "Mo8X2eVvDX9C",
        "colab_type": "text"
      },
      "source": [
        "**1. Accuracy Score -**"
      ]
    },
    {
      "cell_type": "code",
      "metadata": {
        "id": "dCccJ_ylCqo3",
        "colab_type": "code",
        "outputId": "733971c4-7627-48c6-9870-8f396e3e7658",
        "colab": {
          "base_uri": "https://localhost:8080/",
          "height": 34
        }
      },
      "source": [
        "metrics.accuracy_score(Y_test,Y_pred)"
      ],
      "execution_count": 0,
      "outputs": [
        {
          "output_type": "execute_result",
          "data": {
            "text/plain": [
              "0.955329500221141"
            ]
          },
          "metadata": {
            "tags": []
          },
          "execution_count": 33
        }
      ]
    },
    {
      "cell_type": "markdown",
      "metadata": {
        "id": "LB8Bx_iUIGCo",
        "colab_type": "text"
      },
      "source": [
        "**2. Confusion Report - **"
      ]
    },
    {
      "cell_type": "code",
      "metadata": {
        "id": "9DctkycaIJAM",
        "colab_type": "code",
        "outputId": "2db57974-f84d-4e50-c8d8-25d97a42fd1b",
        "colab": {
          "base_uri": "https://localhost:8080/",
          "height": 321
        }
      },
      "source": [
        "print(metrics.classification_report(Y_test,Y_pred))"
      ],
      "execution_count": 0,
      "outputs": [
        {
          "output_type": "stream",
          "text": [
            "              precision    recall  f1-score   support\n",
            "\n",
            "           0       0.96      1.00      0.98      4315\n",
            "           1       0.00      0.00      0.00        56\n",
            "           2       0.67      0.07      0.12       151\n",
            "\n",
            "   micro avg       0.96      0.96      0.96      4522\n",
            "   macro avg       0.54      0.36      0.37      4522\n",
            "weighted avg       0.93      0.96      0.94      4522\n",
            "\n"
          ],
          "name": "stdout"
        },
        {
          "output_type": "stream",
          "text": [
            "/usr/local/lib/python3.6/dist-packages/sklearn/metrics/classification.py:1143: UndefinedMetricWarning: Precision and F-score are ill-defined and being set to 0.0 in labels with no predicted samples.\n",
            "  'precision', 'predicted', average, warn_for)\n",
            "/usr/local/lib/python3.6/dist-packages/sklearn/metrics/classification.py:1143: UndefinedMetricWarning: Precision and F-score are ill-defined and being set to 0.0 in labels with no predicted samples.\n",
            "  'precision', 'predicted', average, warn_for)\n",
            "/usr/local/lib/python3.6/dist-packages/sklearn/metrics/classification.py:1143: UndefinedMetricWarning: Precision and F-score are ill-defined and being set to 0.0 in labels with no predicted samples.\n",
            "  'precision', 'predicted', average, warn_for)\n"
          ],
          "name": "stderr"
        }
      ]
    }
  ]
}
